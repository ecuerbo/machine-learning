{
 "cells": [
  {
   "cell_type": "code",
   "execution_count": 1,
   "id": "047de895",
   "metadata": {},
   "outputs": [
    {
     "name": "stdout",
     "output_type": "stream",
     "text": [
      "89.76923076923077\n"
     ]
    }
   ],
   "source": [
    "import numpy as np\n",
    "speed = [99,86,87,88,111,86,103,87,94,78,77,85,86]\n",
    "\n",
    "x=np.mean(speed)\n",
    "\n",
    "print(x)"
   ]
  },
  {
   "cell_type": "code",
   "execution_count": 3,
   "id": "ece93686",
   "metadata": {},
   "outputs": [
    {
     "name": "stdout",
     "output_type": "stream",
     "text": [
      "87.0\n"
     ]
    }
   ],
   "source": [
    "y=np.median(speed)\n",
    "print(y)"
   ]
  },
  {
   "cell_type": "code",
   "execution_count": 5,
   "id": "2336f439",
   "metadata": {},
   "outputs": [
    {
     "name": "stdout",
     "output_type": "stream",
     "text": [
      "ModeResult(mode=array([86]), count=array([3]))\n"
     ]
    }
   ],
   "source": [
    "from scipy import stats\n",
    "z=stats.mode(speed)\n",
    "\n",
    "print(z)"
   ]
  },
  {
   "cell_type": "code",
   "execution_count": 8,
   "id": "2029e4b6",
   "metadata": {},
   "outputs": [
    {
     "name": "stdout",
     "output_type": "stream",
     "text": [
      "0.9035079029052513\n",
      "37.84501153334721\n"
     ]
    }
   ],
   "source": [
    "import numpy as np\n",
    "\n",
    "speed = [86,87,88,86,87,85,86]\n",
    "speed2 = [32,111,138,28,59,77,97]\n",
    "\n",
    "x=np.std(speed)\n",
    "x2=np.std(speed2)\n",
    "\n",
    "print(x)\n",
    "print(x2)"
   ]
  },
  {
   "cell_type": "code",
   "execution_count": 9,
   "id": "358520ec",
   "metadata": {},
   "outputs": [
    {
     "name": "stdout",
     "output_type": "stream",
     "text": [
      "0.8163265306122449 1432.2448979591834\n"
     ]
    }
   ],
   "source": [
    "y=np.var(speed)\n",
    "y2=np.var(speed2)\n",
    "\n",
    "print(y,y2)"
   ]
  },
  {
   "cell_type": "code",
   "execution_count": 10,
   "id": "fb2a9ec7",
   "metadata": {},
   "outputs": [
    {
     "name": "stdout",
     "output_type": "stream",
     "text": [
      "43.0\n"
     ]
    }
   ],
   "source": [
    "#percentile\n",
    "import numpy as np\n",
    "\n",
    "ages = [5,31,43,48,50,41,7,11,15,39,80,82,32,2,8,6,25,36,27,61,31]\n",
    "\n",
    "x= np.percentile(ages,75)\n",
    "print(x)"
   ]
  },
  {
   "cell_type": "code",
   "execution_count": 11,
   "id": "1088d74e",
   "metadata": {},
   "outputs": [
    {
     "name": "stdout",
     "output_type": "stream",
     "text": [
      "61.0\n"
     ]
    }
   ],
   "source": [
    "y=np.percentile(ages,90)\n",
    "\n",
    "print(y)"
   ]
  },
  {
   "cell_type": "code",
   "execution_count": 14,
   "id": "f0fbf63c",
   "metadata": {},
   "outputs": [
    {
     "name": "stdout",
     "output_type": "stream",
     "text": [
      "[4.22104465 0.52138556 1.02405302 0.83143065 4.13680055 2.5191956\n",
      " 0.1761535  0.74384763 2.9331389  1.93827767 2.25659683 4.84474366\n",
      " 3.82379444 2.39409872 3.16247874 2.39252829 1.94185164 2.5036329\n",
      " 1.43572892 1.42557077 2.86893785 1.65551775 3.67375909 3.84132196\n",
      " 2.41716535 0.15158888 4.05504278 0.12197973 3.8054934  2.58658244\n",
      " 2.57381845 0.08522334 1.79951528 2.35285972 0.03390304 4.57121344\n",
      " 4.2535948  3.37760505 3.98034583 2.52098389 0.23155398 2.3501029\n",
      " 2.46371351 0.24505566 0.32505756 0.93182443 0.60026588 1.12243733\n",
      " 3.73505616 1.98344523 4.73890461 0.162277   2.42908965 2.71385784\n",
      " 3.35476305 2.14935908 0.30987897 4.18851668 4.75098469 2.69255243\n",
      " 0.08522346 3.02903962 2.90889245 0.90093683 4.91719286 3.32697199\n",
      " 0.69159315 4.92255419 3.50897899 4.5929095  4.56057238 3.66528063\n",
      " 4.45850354 0.76766066 2.10119183 2.44374818 1.36920536 2.9253223\n",
      " 2.23343954 3.3322769  4.10519104 4.47973648 1.83313989 2.61652319\n",
      " 3.69345062 4.21111161 0.76513019 1.58711235 4.51230177 0.1828314\n",
      " 1.03497395 0.07921992 3.03089193 4.05870732 4.20997754 0.91130682\n",
      " 1.10639847 4.74183601 3.31852619 3.6757109  4.56543018 4.62353645\n",
      " 0.12791124 2.70162059 0.57053854 1.43071658 4.85389394 2.69712305\n",
      " 1.58975105 1.07358385 1.83399803 3.9158968  3.20807675 1.91793433\n",
      " 3.49132299 0.24916099 1.80404306 4.62511457 2.7625717  3.58199616\n",
      " 4.96961982 0.41910418 3.85498532 1.34291705 2.68740701 3.25634083\n",
      " 0.65520836 0.81744721 0.07574971 3.10469266 4.0935888  2.91172233\n",
      " 0.49697166 3.64084174 4.58729968 4.34546701 2.72441702 2.36941324\n",
      " 1.49616749 1.34268749 1.88860084 4.37379697 0.67266042 1.11986215\n",
      " 1.10443397 4.18424774 4.55595582 4.1159806  2.528294   2.69554557\n",
      " 2.46981424 2.2356877  4.62877438 1.62865183 3.71739939 3.23075303\n",
      " 1.13369779 2.01810439 3.17379777 3.71962359 3.49671547 4.54857987\n",
      " 3.12855247 3.11555698 1.66390998 1.78097669 4.10047826 4.61260646\n",
      " 0.14707074 2.34194188 1.73537498 3.46813194 3.47175888 0.35034272\n",
      " 0.10960598 1.29433257 1.35576629 0.829326   0.86852252 0.41440275\n",
      " 1.81031342 2.0091403  3.51952224 0.03019722 4.66365286 2.48983754\n",
      " 1.13665402 0.05199572 1.62923334 3.61823759 0.40168584 2.34668691\n",
      " 0.37993553 4.27188267 3.45804257 2.58473821 3.52048668 3.65409453\n",
      " 2.64955139 2.82678443 0.49370922 4.23226954 3.224988   1.8149247\n",
      " 1.6449642  1.5855039  2.01726902 1.42121802 3.51667966 0.16298814\n",
      " 1.89384915 1.96955319 4.38810162 4.47077484 3.46532652 4.24892629\n",
      " 2.86191616 4.75477139 3.80987052 4.90413752 3.93524561 3.55853748\n",
      " 1.05662758 2.70723213 0.02538105 4.93819388 0.48082218 1.81426833\n",
      " 2.06455797 2.20999973 1.5071023  3.75921822 0.03086459 3.12067846\n",
      " 0.92059669 0.16688606 4.53299398 0.20139644 2.90100961 2.21402891\n",
      " 1.42725423 0.65279267 4.16433352 3.3100289  3.40876957 3.63661357\n",
      " 4.97891737 3.55946122 0.47616591 4.96200535]\n"
     ]
    }
   ],
   "source": [
    "import numpy\n",
    "x = numpy.random.uniform(0.0,5.0,250)\n",
    "\n",
    "print(x)"
   ]
  },
  {
   "cell_type": "code",
   "execution_count": 18,
   "id": "9db257bc",
   "metadata": {},
   "outputs": [
    {
     "data": {
      "image/png": "[encoded data removed]",
      "text/plain": [
       "<Figure size 432x288 with 1 Axes>"
      ]
     },
     "metadata": {
      "needs_background": "light"
     },
     "output_type": "display_data"
    }
   ],
   "source": [
    "import numpy as np\n",
    "import matplotlib.pyplot as plt\n",
    "\n",
    "x= np.random.uniform(0.0,5.0,250)\n",
    "\n",
    "plt.hist(x,5)\n",
    "plt.show()"
   ]
  },
  {
   "cell_type": "code",
   "execution_count": 21,
   "id": "19d7312f",
   "metadata": {},
   "outputs": [
    {
     "data": {
      "image/png": "[encoded data removed]",
      "text/plain": [
       "<Figure size 432x288 with 1 Axes>"
      ]
     },
     "metadata": {
      "needs_background": "light"
     },
     "output_type": "display_data"
    }
   ],
   "source": [
    "import numpy as np\n",
    "import matplotlib.pyplot as plt\n",
    "\n",
    "x=np.random.uniform(0.0,5.0,10000)\n",
    "\n",
    "plt.hist(x,1000)\n",
    "plt.show()"
   ]
  },
  {
   "cell_type": "code",
   "execution_count": 22,
   "id": "149364ed",
   "metadata": {},
   "outputs": [
    {
     "data": {
      "image/png": "[encoded data removed]",
      "text/plain": [
       "<Figure size 432x288 with 1 Axes>"
      ]
     },
     "metadata": {
      "needs_background": "light"
     },
     "output_type": "display_data"
    }
   ],
   "source": [
    "import numpy as np\n",
    "import matplotlib.pyplot as plt\n",
    "\n",
    "x= np.random.normal(5.0,1.0,10000)\n",
    "\n",
    "plt.hist(x, 100)\n",
    "plt.show()"
   ]
  },
  {
   "cell_type": "code",
   "execution_count": null,
   "id": "f55cea8e",
   "metadata": {},
   "outputs": [],
   "source": []
  }
 ],
 "metadata": {
  "kernelspec": {
   "display_name": "Python 3 (ipykernel)",
   "language": "python",
   "name": "python3"
  },
  "language_info": {
   "codemirror_mode": {
    "name": "ipython",
    "version": 3
   },
   "file_extension": ".py",
   "mimetype": "text/x-python",
   "name": "python",
   "nbconvert_exporter": "python",
   "pygments_lexer": "ipython3",
   "version": "3.9.7"
  }
 },
 "nbformat": 4,
 "nbformat_minor": 5
}
