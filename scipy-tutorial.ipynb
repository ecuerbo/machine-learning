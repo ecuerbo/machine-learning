{
 "cells": [
  {
   "cell_type": "code",
   "execution_count": 2,
   "id": "aae9a2f8",
   "metadata": {},
   "outputs": [
    {
     "name": "stdout",
     "output_type": "stream",
     "text": [
      "0.001\n"
     ]
    }
   ],
   "source": [
    "from scipy import constants as cs\n",
    "\n",
    "print(cs.liter)"
   ]
  },
  {
   "cell_type": "code",
   "execution_count": 4,
   "id": "aec2086d",
   "metadata": {},
   "outputs": [
    {
     "name": "stdout",
     "output_type": "stream",
     "text": [
      "1.7.1\n"
     ]
    }
   ],
   "source": [
    "import scipy\n",
    "print(scipy.__version__)"
   ]
  },
  {
   "cell_type": "code",
   "execution_count": 5,
   "id": "65beac19",
   "metadata": {},
   "outputs": [
    {
     "name": "stdout",
     "output_type": "stream",
     "text": [
      "3.141592653589793\n"
     ]
    }
   ],
   "source": [
    "from scipy import constants\n",
    "\n",
    "print(constants.pi)"
   ]
  },
  {
   "cell_type": "code",
   "execution_count": 6,
   "id": "8aba5e89",
   "metadata": {
    "scrolled": true
   },
   "outputs": [
    {
     "name": "stdout",
     "output_type": "stream",
     "text": [
      "['Avogadro', 'Boltzmann', 'Btu', 'Btu_IT', 'Btu_th', 'ConstantWarning', 'G', 'Julian_year', 'N_A', 'Planck', 'R', 'Rydberg', 'Stefan_Boltzmann', 'Wien', '__all__', '__builtins__', '__cached__', '__doc__', '__file__', '__loader__', '__name__', '__package__', '__path__', '__spec__', '_obsolete_constants', 'acre', 'alpha', 'angstrom', 'arcmin', 'arcminute', 'arcsec', 'arcsecond', 'astronomical_unit', 'atm', 'atmosphere', 'atomic_mass', 'atto', 'au', 'bar', 'barrel', 'bbl', 'blob', 'c', 'calorie', 'calorie_IT', 'calorie_th', 'carat', 'centi', 'codata', 'constants', 'convert_temperature', 'day', 'deci', 'degree', 'degree_Fahrenheit', 'deka', 'dyn', 'dyne', 'e', 'eV', 'electron_mass', 'electron_volt', 'elementary_charge', 'epsilon_0', 'erg', 'exa', 'exbi', 'femto', 'fermi', 'find', 'fine_structure', 'fluid_ounce', 'fluid_ounce_US', 'fluid_ounce_imp', 'foot', 'g', 'gallon', 'gallon_US', 'gallon_imp', 'gas_constant', 'gibi', 'giga', 'golden', 'golden_ratio', 'grain', 'gram', 'gravitational_constant', 'h', 'hbar', 'hectare', 'hecto', 'horsepower', 'hour', 'hp', 'inch', 'k', 'kgf', 'kibi', 'kilo', 'kilogram_force', 'kmh', 'knot', 'lambda2nu', 'lb', 'lbf', 'light_year', 'liter', 'litre', 'long_ton', 'm_e', 'm_n', 'm_p', 'm_u', 'mach', 'mebi', 'mega', 'metric_ton', 'micro', 'micron', 'mil', 'mile', 'milli', 'minute', 'mmHg', 'mph', 'mu_0', 'nano', 'nautical_mile', 'neutron_mass', 'nu2lambda', 'ounce', 'oz', 'parsec', 'pebi', 'peta', 'physical_constants', 'pi', 'pico', 'point', 'pound', 'pound_force', 'precision', 'proton_mass', 'psi', 'pt', 'short_ton', 'sigma', 'slinch', 'slug', 'speed_of_light', 'speed_of_sound', 'stone', 'survey_foot', 'survey_mile', 'tebi', 'tera', 'test', 'ton_TNT', 'torr', 'troy_ounce', 'troy_pound', 'u', 'unit', 'value', 'week', 'yard', 'year', 'yobi', 'yotta', 'zebi', 'zepto', 'zero_Celsius', 'zetta']\n"
     ]
    }
   ],
   "source": [
    "from scipy import constants\n",
    "\n",
    "print(dir(constants))"
   ]
  },
  {
   "cell_type": "code",
   "execution_count": 9,
   "id": "11b1c08d",
   "metadata": {},
   "outputs": [
    {
     "name": "stdout",
     "output_type": "stream",
     "text": [
      "133.32236842105263\n"
     ]
    }
   ],
   "source": [
    "print(constants.mmHg)"
   ]
  },
  {
   "cell_type": "code",
   "execution_count": 12,
   "id": "d6df2d86",
   "metadata": {},
   "outputs": [
    {
     "name": "stdout",
     "output_type": "stream",
     "text": [
      "1000.0\n"
     ]
    }
   ],
   "source": [
    "print(constants.kilo)"
   ]
  },
  {
   "cell_type": "code",
   "execution_count": 13,
   "id": "f52b8bf9",
   "metadata": {},
   "outputs": [
    {
     "name": "stdout",
     "output_type": "stream",
     "text": [
      "[-0.73908513]\n"
     ]
    }
   ],
   "source": [
    "#find the root of the equation x + cos(x)\n",
    "\n",
    "from scipy.optimize import root\n",
    "from math import cos\n",
    "\n",
    "def eqn(x):\n",
    "    return x + cos(x)\n",
    "\n",
    "myroot = root(eqn,0)\n",
    "\n",
    "print(myroot.x)"
   ]
  },
  {
   "cell_type": "code",
   "execution_count": 14,
   "id": "c86436d0",
   "metadata": {},
   "outputs": [
    {
     "name": "stdout",
     "output_type": "stream",
     "text": [
      "    fjac: array([[-1.]])\n",
      "     fun: array([0.])\n",
      " message: 'The solution converged.'\n",
      "    nfev: 9\n",
      "     qtf: array([-2.66786593e-13])\n",
      "       r: array([-1.67361202])\n",
      "  status: 1\n",
      " success: True\n",
      "       x: array([-0.73908513])\n"
     ]
    }
   ],
   "source": [
    "print(myroot)"
   ]
  },
  {
   "cell_type": "code",
   "execution_count": 15,
   "id": "037c0898",
   "metadata": {},
   "outputs": [
    {
     "name": "stdout",
     "output_type": "stream",
     "text": [
      "      fun: 1.75\n",
      " hess_inv: array([[0.50000001]])\n",
      "      jac: array([0.])\n",
      "  message: 'Optimization terminated successfully.'\n",
      "     nfev: 8\n",
      "      nit: 2\n",
      "     njev: 4\n",
      "   status: 0\n",
      "  success: True\n",
      "        x: array([-0.50000001])\n"
     ]
    }
   ],
   "source": [
    "from scipy.optimize import minimize\n",
    "\n",
    "def eqn(x):\n",
    "    return x**2 + x + 2\n",
    "\n",
    "mymin = minimize(eqn,0,method='BFGS')\n",
    "\n",
    "print(mymin)"
   ]
  },
  {
   "cell_type": "code",
   "execution_count": 22,
   "id": "9a222de5",
   "metadata": {},
   "outputs": [
    {
     "name": "stdout",
     "output_type": "stream",
     "text": [
      "    fjac: array([[-1.]])\n",
      "     fun: array([0.])\n",
      " message: 'The solution converged.'\n",
      "    nfev: 9\n",
      "     qtf: array([-2.66786593e-13])\n",
      "       r: array([-1.67361202])\n",
      "  status: 1\n",
      " success: True\n",
      "       x: array([-0.73908513])\n"
     ]
    }
   ],
   "source": [
    "from scipy.optimize import root\n",
    "from math import cos\n",
    "\n",
    "def eqn(x):\n",
    "    return x + cos(x)\n",
    "\n",
    "myroot=root(eqn,0)\n",
    "\n",
    "print(myroot)"
   ]
  },
  {
   "cell_type": "code",
   "execution_count": 24,
   "id": "ccec58d8",
   "metadata": {},
   "outputs": [
    {
     "name": "stdout",
     "output_type": "stream",
     "text": [
      "[-2.66786593e-13]\n"
     ]
    }
   ],
   "source": [
    "from scipy.optimize import root\n",
    "from math import cos\n",
    "\n",
    "def eqn(x):\n",
    "    return x + cos(x)\n",
    "\n",
    "myroot=root(eqn,0)\n",
    "\n",
    "print(myroot.qtf)"
   ]
  },
  {
   "cell_type": "code",
   "execution_count": 25,
   "id": "bee6f87b",
   "metadata": {},
   "outputs": [
    {
     "name": "stdout",
     "output_type": "stream",
     "text": [
      "  (0, 5)\t1\n",
      "  (0, 6)\t1\n",
      "  (0, 8)\t2\n"
     ]
    }
   ],
   "source": [
    "import numpy as np\n",
    "from scipy.sparse import csr_matrix\n",
    "\n",
    "arr = np.array([0,0,0,0,0,1,1,0,2])\n",
    "\n",
    "print(csr_matrix(arr))"
   ]
  },
  {
   "cell_type": "code",
   "execution_count": 1,
   "id": "4174cf74",
   "metadata": {},
   "outputs": [
    {
     "name": "stdout",
     "output_type": "stream",
     "text": [
      "[1 1 2]\n"
     ]
    }
   ],
   "source": [
    "import numpy as np\n",
    "from scipy.sparse import csr_matrix\n",
    "\n",
    "arr= np.array([[0,0,0],[0,0,1],[1,0,2]])\n",
    "\n",
    "print(csr_matrix(arr).data)"
   ]
  },
  {
   "cell_type": "code",
   "execution_count": 6,
   "id": "966ffc21",
   "metadata": {},
   "outputs": [
    {
     "name": "stdout",
     "output_type": "stream",
     "text": [
      "2\n"
     ]
    }
   ],
   "source": [
    "# import numpy as np\n",
    "from scipy.sparse import csr_matrix\n",
    "\n",
    "arr=np.array([[0,0,0],[0,0,0],[1,0,2]])\n",
    "\n",
    "print(csr_matrix(arr).count_nonzero())"
   ]
  },
  {
   "cell_type": "code",
   "execution_count": 7,
   "id": "69bac88e",
   "metadata": {},
   "outputs": [
    {
     "name": "stdout",
     "output_type": "stream",
     "text": [
      "  (2, 0)\t1\n",
      "  (2, 2)\t2\n"
     ]
    }
   ],
   "source": [
    "#eliminate xeros\n",
    "mat = csr_matrix(arr)\n",
    "mat.eliminate_zeros()\n",
    "\n",
    "print(mat)"
   ]
  },
  {
   "cell_type": "code",
   "execution_count": 8,
   "id": "906e6f4b",
   "metadata": {},
   "outputs": [
    {
     "name": "stdout",
     "output_type": "stream",
     "text": [
      "  (2, 0)\t1\n",
      "  (2, 2)\t2\n"
     ]
    }
   ],
   "source": [
    "mat.sum_duplicates()\n",
    "print(mat)"
   ]
  },
  {
   "cell_type": "code",
   "execution_count": 11,
   "id": "c7999dd9",
   "metadata": {},
   "outputs": [
    {
     "name": "stdout",
     "output_type": "stream",
     "text": [
      "  (2, 0)\t1\n",
      "  (2, 2)\t2\n"
     ]
    }
   ],
   "source": [
    "#converting froim csr to csc with the tocsc()\n",
    "\n",
    "newarr = mat.tocsc()\n",
    "print(newarr)"
   ]
  },
  {
   "cell_type": "code",
   "execution_count": 12,
   "id": "8cca8af3",
   "metadata": {},
   "outputs": [
    {
     "name": "stdout",
     "output_type": "stream",
     "text": [
      "2\n"
     ]
    }
   ],
   "source": [
    "print(mat.count_nonzero())"
   ]
  },
  {
   "cell_type": "code",
   "execution_count": 13,
   "id": "f3d23d91",
   "metadata": {},
   "outputs": [
    {
     "name": "stdout",
     "output_type": "stream",
     "text": [
      "[[0 1 2]\n",
      " [1 0 0]\n",
      " [2 0 0]]\n"
     ]
    }
   ],
   "source": [
    "import numpy as np\n",
    "from scipy.sparse.csgraph import connected_components\n",
    "from scipy.sparse import csr_matrix\n",
    "\n",
    "arr = np.array([\n",
    "    [0,1,2],\n",
    "    [1,0,0],\n",
    "    [2,0,0]\n",
    "])\n",
    "\n",
    "newarr = csr_matrix(arr)\n",
    "\n",
    "print(arr)"
   ]
  },
  {
   "cell_type": "code",
   "execution_count": 14,
   "id": "de72de42",
   "metadata": {},
   "outputs": [
    {
     "name": "stdout",
     "output_type": "stream",
     "text": [
      "  (0, 1)\t1\n",
      "  (0, 2)\t2\n",
      "  (1, 0)\t1\n",
      "  (2, 0)\t2\n"
     ]
    }
   ],
   "source": [
    "print(newarr)"
   ]
  },
  {
   "cell_type": "code",
   "execution_count": 15,
   "id": "d2439b0c",
   "metadata": {},
   "outputs": [
    {
     "name": "stdout",
     "output_type": "stream",
     "text": [
      "(1, array([0, 0, 0], dtype=int32))\n"
     ]
    }
   ],
   "source": [
    "print(connected_components(newarr))"
   ]
  },
  {
   "cell_type": "code",
   "execution_count": 17,
   "id": "b6d70130",
   "metadata": {},
   "outputs": [
    {
     "name": "stdout",
     "output_type": "stream",
     "text": [
      "(array([0., 1., 2.]), array([-9999,     0,     0], dtype=int32))\n"
     ]
    }
   ],
   "source": [
    "import numpy as np\n",
    "from scipy.sparse.csgraph import dijkstra\n",
    "from scipy.sparse import csr_matrix\n",
    "\n",
    "arr = np.array([\n",
    "    [0,1,2],\n",
    "    [1,0,0],\n",
    "    [2,0,0]\n",
    "])\n",
    "\n",
    "newarr= csr_matrix(arr)\n",
    "\n",
    "print(dijkstra(newarr, return_predecessors=True,indices=0))"
   ]
  },
  {
   "cell_type": "code",
   "execution_count": 18,
   "id": "de897db4",
   "metadata": {},
   "outputs": [
    {
     "name": "stdout",
     "output_type": "stream",
     "text": [
      "(array([[0., 1., 2.],\n",
      "       [1., 0., 3.],\n",
      "       [2., 3., 0.]]), array([[-9999,     0,     0],\n",
      "       [    1, -9999,     0],\n",
      "       [    2,     0, -9999]], dtype=int32))\n"
     ]
    }
   ],
   "source": [
    "#find the shortest path between all pairs of elements\n",
    "import numpy as np\n",
    "from scipy.sparse.csgraph import floyd_warshall\n",
    "from scipy.sparse import csr_matrix\n",
    "\n",
    "arr = np.array([\n",
    "    [0,1,2],\n",
    "    [1,0,0],\n",
    "    [2,0,0]\n",
    "])\n",
    "\n",
    "newarr = csr_matrix(arr)\n",
    "\n",
    "print(floyd_warshall(newarr, return_predecessors=True))"
   ]
  },
  {
   "cell_type": "code",
   "execution_count": 19,
   "id": "9435b3be",
   "metadata": {},
   "outputs": [
    {
     "name": "stdout",
     "output_type": "stream",
     "text": [
      "(array([ 0., -1.,  2.]), array([-9999,     0,     0], dtype=int32))\n"
     ]
    }
   ],
   "source": [
    "#bellman ford\n",
    "import numpy as np\n",
    "from scipy.sparse.csgraph import bellman_ford\n",
    "from scipy.sparse import csr_matrix\n",
    "\n",
    "arr = np.array([\n",
    "    [0,-1,2],\n",
    "    [1,0,0],\n",
    "    [2,0,0]\n",
    "])\n",
    "\n",
    "newarr = csr_matrix(arr)\n",
    "print(bellman_ford(newarr, return_predecessors=True, indices=0))"
   ]
  },
  {
   "cell_type": "code",
   "execution_count": 22,
   "id": "08032e12",
   "metadata": {},
   "outputs": [
    {
     "name": "stdout",
     "output_type": "stream",
     "text": [
      "(array([1, 0, 3, 2], dtype=int32), array([    1, -9999,     1,     0], dtype=int32))\n"
     ]
    }
   ],
   "source": [
    "'''The depth_first_order() method returns a depth first traversal from a node.\n",
    "\n",
    "This function takes following arguments:\n",
    "\n",
    "the graph.\n",
    "the starting element to traverse graph from.'''\n",
    "\n",
    "import numpy as np\n",
    "from scipy.sparse.csgraph import depth_first_order as dfo\n",
    "from scipy.sparse import csr_matrix as cm\n",
    "\n",
    "arr=np.array([\n",
    "    [0,1,0,1],\n",
    "    [1,1,1,1],\n",
    "    [2,1,1,0],\n",
    "    [0,1,0,1]\n",
    "])\n",
    "\n",
    "newarr = cm(arr)\n",
    "print(dfo(newarr,1))"
   ]
  },
  {
   "cell_type": "code",
   "execution_count": 23,
   "id": "26ea79f3",
   "metadata": {},
   "outputs": [
    {
     "name": "stdout",
     "output_type": "stream",
     "text": [
      "(array([1, 0, 2, 3], dtype=int32), array([    1, -9999,     1,     1], dtype=int32))\n"
     ]
    }
   ],
   "source": [
    "import numpy as np\n",
    "from scipy.sparse.csgraph import breadth_first_order\n",
    "from scipy.sparse import csr_matrix\n",
    "\n",
    "arr = np.array([\n",
    "    [0,1,0,1],\n",
    "    [1,1,1,1],\n",
    "    [2,1,1,0],\n",
    "    [0,1,0,1]\n",
    "])\n",
    "\n",
    "newarr= csr_matrix(arr)\n",
    "\n",
    "print(breadth_first_order(newarr,1))"
   ]
  },
  {
   "cell_type": "code",
   "execution_count": 24,
   "id": "d301e18a",
   "metadata": {},
   "outputs": [],
   "source": [
    "from scipy.interpolate import UnivariateSpline\n",
    "import numpy as np\n",
    "\n",
    "xs = np.arange(10)\n",
    "ys = xs**2 + np.sin(xs) + 1\n",
    "\n",
    "interp_func = UnivariateSpline(xs, ys)"
   ]
  },
  {
   "cell_type": "code",
   "execution_count": 25,
   "id": "798045bb",
   "metadata": {},
   "outputs": [],
   "source": [
    "from scipy import io\n",
    "import numpy as np\n",
    "\n",
    "arr = np.arange(10)\n",
    "\n",
    "io.savemat('arr.mat',{\"vec\":arr})"
   ]
  },
  {
   "cell_type": "code",
   "execution_count": 26,
   "id": "22e24a44",
   "metadata": {},
   "outputs": [
    {
     "name": "stdout",
     "output_type": "stream",
     "text": [
      "{'__header__': b'MATLAB 5.0 MAT-file Platform: posix, Created on: Fri Jun 10 22:32:45 2022', '__version__': '1.0', '__globals__': [], 'vec': array([[0, 1, 2, 3, 4, 5, 6, 7, 8, 9]])}\n"
     ]
    }
   ],
   "source": [
    "from scipy import io\n",
    "mydata = io.loadmat('arr.mat')\n",
    "\n",
    "print(mydata)"
   ]
  },
  {
   "cell_type": "code",
   "execution_count": 29,
   "id": "d9f89705",
   "metadata": {},
   "outputs": [
    {
     "name": "stdout",
     "output_type": "stream",
     "text": [
      "0.18028430037037552\n"
     ]
    }
   ],
   "source": [
    "import numpy as np\n",
    "from scipy.stats import skew, kurtosis\n",
    "\n",
    "v=np.random.normal(size=100)\n",
    "\n",
    "print(skew(v))"
   ]
  },
  {
   "cell_type": "markdown",
   "id": "c8315ad4",
   "metadata": {},
   "source": [
    "**STATISTICAL SIGNIFICANCE TEST**"
   ]
  },
  {
   "cell_type": "code",
   "execution_count": 1,
   "id": "07acda34",
   "metadata": {},
   "outputs": [
    {
     "name": "stdout",
     "output_type": "stream",
     "text": [
      "Ttest_indResult(statistic=1.1936611964329742, pvalue=0.23403872388293093)\n"
     ]
    }
   ],
   "source": [
    "#ttest\n",
    "import numpy as np\n",
    "from scipy.stats import ttest_ind\n",
    "\n",
    "v1 = np.random.normal(size=100)\n",
    "v2 = np.random.normal(size=100)\n",
    "\n",
    "res = ttest_ind(v1,v2)\n",
    "\n",
    "print(res)"
   ]
  },
  {
   "cell_type": "code",
   "execution_count": 2,
   "id": "5c27a395",
   "metadata": {},
   "outputs": [
    {
     "name": "stdout",
     "output_type": "stream",
     "text": [
      "0.23403872388293093\n"
     ]
    }
   ],
   "source": [
    "res = ttest_ind(v1,v2).pvalue\n",
    "\n",
    "print(res)"
   ]
  },
  {
   "cell_type": "code",
   "execution_count": 3,
   "id": "127509a4",
   "metadata": {},
   "outputs": [
    {
     "name": "stdout",
     "output_type": "stream",
     "text": [
      "KstestResult(statistic=0.07099392592567333, pvalue=0.6679083644971895)\n"
     ]
    }
   ],
   "source": [
    "#KS-Test\n",
    "import numpy as np\n",
    "from scipy.stats import kstest\n",
    "\n",
    "v= np.random.normal(size=100)\n",
    "\n",
    "res = kstest(v, \"norm\")\n",
    "\n",
    "print(res)"
   ]
  },
  {
   "cell_type": "code",
   "execution_count": 4,
   "id": "2a6bac66",
   "metadata": {},
   "outputs": [
    {
     "name": "stdout",
     "output_type": "stream",
     "text": [
      "0.6679083644971895\n"
     ]
    }
   ],
   "source": [
    "res1 = kstest(v,\"norm\").pvalue\n",
    "print(res1)"
   ]
  },
  {
   "cell_type": "code",
   "execution_count": 5,
   "id": "9e4722d4",
   "metadata": {},
   "outputs": [
    {
     "data": {
      "text/plain": [
       "'Statistical Description of Data\\nIn order to see a summary of values in an array, we can use the describe() function.\\n\\nIt returns the following description:\\n\\nnumber of observations (nobs)\\nminimum and maximum values = minmax\\nmean\\nvariance\\nskewness\\nkurtosis'"
      ]
     },
     "execution_count": 5,
     "metadata": {},
     "output_type": "execute_result"
    }
   ],
   "source": [
    "'''Statistical Description of Data\n",
    "In order to see a summary of values in an array, we can use the describe() function.\n",
    "\n",
    "It returns the following description:\n",
    "\n",
    "number of observations (nobs)\n",
    "minimum and maximum values = minmax\n",
    "mean\n",
    "variance\n",
    "skewness\n",
    "kurtosis'''"
   ]
  },
  {
   "cell_type": "code",
   "execution_count": 6,
   "id": "c9303bd9",
   "metadata": {},
   "outputs": [
    {
     "name": "stdout",
     "output_type": "stream",
     "text": [
      "DescribeResult(nobs=100, minmax=(-2.264013127778717, 1.9395603119732114), mean=-0.07530284935146626, variance=0.9339249253978381, skewness=-0.25207030118009677, kurtosis=-0.4546235449059779)\n"
     ]
    }
   ],
   "source": [
    "import numpy as np\n",
    "from scipy.stats import describe as ds\n",
    "\n",
    "v = np.random.normal(size=100)\n",
    "res = ds(v)\n",
    "\n",
    "print(res)"
   ]
  },
  {
   "cell_type": "code",
   "execution_count": 7,
   "id": "ab6a8065",
   "metadata": {},
   "outputs": [
    {
     "data": {
      "text/plain": [
       "'Normality Tests (Skewness and Kurtosis)\\nNormality tests are based on the skewness and kurtosis.\\n\\nThe normaltest() function returns p value for the null hypothesis:\\n\\n\"x comes from a normal distribution\".\\n\\nSkewness:\\nA measure of symmetry in data.\\n\\nFor normal distributions it is 0.\\n\\nIf it is negative, it means the data is skewed left.\\n\\nIf it is positive it means the data is skewed right.\\n\\nKurtosis:\\nA measure of whether the data is heavy or lightly tailed to a normal distribution.\\n\\nPositive kurtosis means heavy tailed.\\n\\nNegative kurtosis means lightly tailed.\\n'"
      ]
     },
     "execution_count": 7,
     "metadata": {},
     "output_type": "execute_result"
    }
   ],
   "source": [
    "'''Normality Tests (Skewness and Kurtosis)\n",
    "Normality tests are based on the skewness and kurtosis.\n",
    "\n",
    "The normaltest() function returns p value for the null hypothesis:\n",
    "\n",
    "\"x comes from a normal distribution\".\n",
    "\n",
    "Skewness:\n",
    "A measure of symmetry in data.\n",
    "\n",
    "For normal distributions it is 0.\n",
    "\n",
    "If it is negative, it means the data is skewed left.\n",
    "\n",
    "If it is positive it means the data is skewed right.\n",
    "\n",
    "Kurtosis:\n",
    "A measure of whether the data is heavy or lightly tailed to a normal distribution.\n",
    "\n",
    "Positive kurtosis means heavy tailed.\n",
    "\n",
    "Negative kurtosis means lightly tailed.\n",
    "'''"
   ]
  },
  {
   "cell_type": "code",
   "execution_count": 8,
   "id": "f4823bce",
   "metadata": {},
   "outputs": [
    {
     "name": "stdout",
     "output_type": "stream",
     "text": [
      "0.4708524908449391\n",
      "0.6251932846997965\n"
     ]
    }
   ],
   "source": [
    "import numpy as np\n",
    "from scipy.stats import skew, kurtosis\n",
    "\n",
    "v= np.random.normal(size=100)\n",
    "\n",
    "print(skew(v))\n",
    "print(kurtosis(v))"
   ]
  },
  {
   "cell_type": "code",
   "execution_count": 9,
   "id": "cc567ac0",
   "metadata": {},
   "outputs": [
    {
     "name": "stdout",
     "output_type": "stream",
     "text": [
      "NormaltestResult(statistic=0.6303719436274422, pvalue=0.7296531667277553)\n"
     ]
    }
   ],
   "source": [
    "#Find if the data comes from a normal distribution:\n",
    "from scipy.stats import normaltest\n",
    "\n",
    "v = np.random.normal(size=100)\n",
    "\n",
    "print(normaltest(v))"
   ]
  },
  {
   "cell_type": "code",
   "execution_count": null,
   "id": "fe38e736",
   "metadata": {},
   "outputs": [],
   "source": []
  }
 ],
 "metadata": {
  "kernelspec": {
   "display_name": "Python 3 (ipykernel)",
   "language": "python",
   "name": "python3"
  },
  "language_info": {
   "codemirror_mode": {
    "name": "ipython",
    "version": 3
   },
   "file_extension": ".py",
   "mimetype": "text/x-python",
   "name": "python",
   "nbconvert_exporter": "python",
   "pygments_lexer": "ipython3",
   "version": "3.9.7"
  }
 },
 "nbformat": 4,
 "nbformat_minor": 5
}
