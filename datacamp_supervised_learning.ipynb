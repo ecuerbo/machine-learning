{
 "cells": [
  {
   "cell_type": "markdown",
   "id": "cfc69a95",
   "metadata": {},
   "source": [
    "## Chapter 1. KNeighborsClassifier"
   ]
  },
  {
   "cell_type": "code",
   "execution_count": null,
   "id": "02eb8c03",
   "metadata": {},
   "outputs": [],
   "source": [
    "# Import KNeighborsClassifier\n",
    "from sklearn.neighbors import KNeighborsClassifier\n",
    "\n",
    "# Create arrays for the features and the target variable\n",
    "y = churn_df[\"churn\"].values\n",
    "X = churn_df[[\"account_length\", \"customer_service_calls\"]].values\n",
    "\n",
    "# Create a KNN classifier with 6 neighbors\n",
    "knn = KNeighborsClassifier(n_neighbors=6)\n",
    "\n",
    "# Fit the classifier to the data\n",
    "knn.fit(X,y)"
   ]
  },
  {
   "cell_type": "code",
   "execution_count": null,
   "id": "b4b7cb7b",
   "metadata": {},
   "outputs": [],
   "source": [
    "# Predict the labels for the X_new\n",
    "y_pred = knn.predict(X_new)\n",
    "\n",
    "# Print the predictions for X_new\n",
    "print(\"Predictions: {}\".format(y_pred)) "
   ]
  },
  {
   "cell_type": "markdown",
   "id": "59237675",
   "metadata": {},
   "source": [
    "### evaluate performance\n",
    "accuracy = correct predictions/total observations"
   ]
  },
  {
   "cell_type": "code",
   "execution_count": null,
   "id": "962f4735",
   "metadata": {},
   "outputs": [],
   "source": [
    "from sklearn.model_selection import train_test_split\n",
    "X_train, X_test, y_train, y_test = train_test_split(X,y, test_size=0.3,\n",
    "                                                   random_state=32, stratify=y)\n",
    "\n",
    "knn = KNeighborsClassifier(n_neighbors=6)\n",
    "knn.fit(X_train, y_train)\n",
    "print(knn.score(X_test, y_test))"
   ]
  },
  {
   "cell_type": "code",
   "execution_count": null,
   "id": "25dfe946",
   "metadata": {},
   "outputs": [],
   "source": [
    "train_accuracies = {}\n",
    "test_accuracies = {}\n",
    "neighbors = np.arange(1,26)\n",
    "for neighbor in neighbors:\n",
    "    knn = KNeighborsClassifier(n_neighbors=neighbor)\n",
    "    knn.fit(X_train, y_train)\n",
    "    train_accuracies[neighbor] = knn.score(X_train, y_train)\n",
    "    test_accuracies[neighbor] = knn.score(X_test, y_test)"
   ]
  },
  {
   "cell_type": "code",
   "execution_count": null,
   "id": "756a13a3",
   "metadata": {},
   "outputs": [],
   "source": [
    "#plot the results\n",
    "plt.figure(figsize=(8,6))\n",
    "plt.title(\"KNN: Varying Number of Neighbors\")\n",
    "plt.plot(neighbors, train_accuracies.values(),label=\"Training Accuracy\")\n",
    "plt.plot(neighbors, test_accuracies.values(),label=\"Testing Accuracy\")\n",
    "plt.legend()\n",
    "plt.xlabel(\"Number of Neighbors\")\n",
    "plt.ylabel(\"Accuracy\")\n",
    "plt.show()"
   ]
  },
  {
   "cell_type": "markdown",
   "id": "8a8a8b7c",
   "metadata": {},
   "source": [
    "## Chapter 2. Regression"
   ]
  },
  {
   "cell_type": "code",
   "execution_count": null,
   "id": "b42004c9",
   "metadata": {},
   "outputs": [],
   "source": [
    "import pandas as pd\n",
    "diabetes_df = pd.read_csv(\"diabetes\")\n",
    "print(diabetes_df.head())"
   ]
  },
  {
   "cell_type": "code",
   "execution_count": null,
   "id": "436a4167",
   "metadata": {},
   "outputs": [],
   "source": [
    "#feature and target arrays\n",
    "X = diabetes_df.drop(\"glucose\", axis=1).values\n",
    "y= diabetes_df[\"glucose\"].values"
   ]
  },
  {
   "cell_type": "code",
   "execution_count": null,
   "id": "6936e401",
   "metadata": {},
   "outputs": [],
   "source": [
    "X_bmi = X[:, 3]\n",
    "print(y.shape, X_bmi.shape)"
   ]
  },
  {
   "cell_type": "code",
   "execution_count": null,
   "id": "761fd62b",
   "metadata": {},
   "outputs": [],
   "source": [
    "X_bmi = X_bmi.reshape(-1,1)\n",
    "print(X_bmi)\n",
    "\n",
    "#x_bmi would be the same shape as the model"
   ]
  },
  {
   "cell_type": "code",
   "execution_count": null,
   "id": "95803c66",
   "metadata": {},
   "outputs": [],
   "source": [
    "import matplotlib.pyplot as plt\n",
    "plt.scatter(X_bmi,y)\n",
    "plt.ylabel(\"Blood Glucose (mg/dL)\")\n",
    "plt.xlabel(\"Body Mass Index\")\n",
    "plt.show()"
   ]
  },
  {
   "cell_type": "code",
   "execution_count": null,
   "id": "84cf1977",
   "metadata": {},
   "outputs": [],
   "source": [
    "from sklearn.linear_model import LinearRegression\n",
    "reg = LinearRegression()\n",
    "reg.fit(X_bmi, y)\n",
    "predictions = reg.predict(X_bmi)\n",
    "plt.scatter(X_bmi,y)\n",
    "plt.plot(X_bmi, predictions)\n",
    "plt.ylabel(\"Blood Glucose (mg/dL)\")\n",
    "plt.xlabel(\"Body Mass Index\")\n",
    "plt.show()"
   ]
  },
  {
   "cell_type": "code",
   "execution_count": null,
   "id": "d1110747",
   "metadata": {},
   "outputs": [],
   "source": [
    "# Create X and y arrays\n",
    "X = sales_df.drop(\"sales\", axis=1).values\n",
    "y = sales_df[\"sales\"].values\n",
    "\n",
    "X_train, X_test, y_train, y_test = train_test_split(X, y, test_size=0.3, random_state=42)\n",
    "\n",
    "# Instantiate the model\n",
    "reg = LinearRegression()\n",
    "\n",
    "# Fit the model to the data\n",
    "reg.fit(X_train,y_train)\n",
    "\n",
    "# Make predictions\n",
    "y_pred = reg.predict(X_test)\n",
    "print(\"Predictions: {}, Actual Values: {}\".format(y_pred[:2], y_test[:2]))"
   ]
  },
  {
   "cell_type": "code",
   "execution_count": null,
   "id": "a898bcad",
   "metadata": {},
   "outputs": [],
   "source": [
    "from sklearn.metrics import mean_squared_error\n",
    "mean_squared_error(y_test, y_pred, squared=False)"
   ]
  },
  {
   "cell_type": "code",
   "execution_count": null,
   "id": "da4d5be1",
   "metadata": {},
   "outputs": [],
   "source": [
    "# Import mean_squared_error\n",
    "from sklearn.metrics import mean_squared_error\n",
    "\n",
    "# Compute R-squared\n",
    "r_squared = reg.score(X_test, y_test)\n",
    "\n",
    "# Compute RMSE\n",
    "rmse = mean_squared_error(y_test, y_pred, squared=False)\n",
    "\n",
    "# Print the metrics\n",
    "print(\"R^2: {}\".format(r_squared))\n",
    "print(\"RMSE: {}\".format(rmse))"
   ]
  },
  {
   "cell_type": "markdown",
   "id": "604db6d8",
   "metadata": {},
   "source": [
    "### Cross Validation"
   ]
  },
  {
   "cell_type": "code",
   "execution_count": null,
   "id": "8686b41c",
   "metadata": {},
   "outputs": [],
   "source": [
    "from sklearn.model_selection import cross_val_score, KFold\n",
    "kf = KFold(n_splits=6, shuffle=True, random_state=42)\n",
    "reg = LinearRegression()\n",
    "cv_results = cross_val_score(reg, X,y,cv=kf)"
   ]
  },
  {
   "cell_type": "code",
   "execution_count": null,
   "id": "36cff6a0",
   "metadata": {},
   "outputs": [],
   "source": [
    "print(cv_results)\n",
    "print(np.mean(cv_results), np.std(cv_results))"
   ]
  },
  {
   "cell_type": "code",
   "execution_count": null,
   "id": "1a6908ec",
   "metadata": {},
   "outputs": [],
   "source": [
    "print(np.quantile(cv_results,[0.025, 0.975]))"
   ]
  },
  {
   "cell_type": "markdown",
   "id": "cc809545",
   "metadata": {},
   "source": [
    "### regularized regression\n",
    "-avoiding overfitting\n",
    "-penalizing large coeffecients"
   ]
  },
  {
   "cell_type": "code",
   "execution_count": null,
   "id": "5c2ef936",
   "metadata": {},
   "outputs": [],
   "source": [
    "#ridge regression\n",
    "from sklearn.linear_model import Ridge\n",
    "scores = []\n",
    "for alpha in [0.1,1,10,10,1000]:\n",
    "    ridge = Ridge(alpha=alpha)\n",
    "    ridge.fit(X_train, y_train)\n",
    "    y_pred = ridge.predict(X_test)\n",
    "    scores.append(ridge.score(X_test, y_test))\n",
    "print(scores)"
   ]
  },
  {
   "cell_type": "code",
   "execution_count": null,
   "id": "2c766201",
   "metadata": {},
   "outputs": [],
   "source": [
    "#lasso regression\n",
    "from sklearn.linear_model import Lasso\n",
    "scores = []\n",
    "for alpha in [0.1,1,10,10,1000]:\n",
    "    lasso = lasso(alpha=alpha)\n",
    "    lasso.fit(X_train, y_train)\n",
    "    lasso_pred = lasso.predict(X_test)\n",
    "    scores.append(lasso.score(X_test, y_test))\n",
    "print(scores)"
   ]
  },
  {
   "cell_type": "code",
   "execution_count": null,
   "id": "098867a4",
   "metadata": {},
   "outputs": [],
   "source": [
    "#Lasso for feature selection in scikit-learn\n",
    "from sklearn.linear_model import Lasso\n",
    "X = diabetes_df.drop(\"glucose\", axis=1).values\n",
    "y = diabetes_df[\"glucose\"].values\n",
    "names = diabetes_df.drop(\"glucose\", axis=1).columns\n",
    "lasso = Lasso(alpha=0.1)\n",
    "lasso_coef = lasso.fit(X,y).coef_\n",
    "plt.bar(names, lasso_coef)\n",
    "plt.x_ticks(rotation=45)\n",
    "plt.show()"
   ]
  },
  {
   "cell_type": "markdown",
   "id": "1ef3a110",
   "metadata": {},
   "source": [
    "### confusion matrix in scikit-learn\n"
   ]
  },
  {
   "cell_type": "code",
   "execution_count": null,
   "id": "d980fe2f",
   "metadata": {},
   "outputs": [],
   "source": [
    "from sklearn.metrics import classification_report, confusion_matrix\n",
    "knn = KNeighborClassifier(n_neighbors=7)\n",
    "X_train, X_test, y_train, y_test = train_test_split(X,y,\n",
    "                                                   test_size=0.4,\n",
    "                                                   random_state=42)\n",
    "knn.fit(X_train, y_train)\n",
    "y_pred = knn.predict(X_test)\n",
    "print(confusion_matrix(y_test, y_pred))"
   ]
  },
  {
   "cell_type": "code",
   "execution_count": null,
   "id": "b1250904",
   "metadata": {},
   "outputs": [],
   "source": [
    "print(classification_report(y_test, y_pred))"
   ]
  },
  {
   "cell_type": "markdown",
   "id": "c55c2b38",
   "metadata": {},
   "source": [
    "## Creating features"
   ]
  },
  {
   "cell_type": "code",
   "execution_count": null,
   "id": "8aa760b4",
   "metadata": {},
   "outputs": [],
   "source": [
    "import numpy as np\n",
    "X = sales_df['radio'].values.X.reshape(-1,1)\n",
    "y = sales_df['sales'].values\n",
    "\n",
    "print(X.shape, y.shape)"
   ]
  },
  {
   "cell_type": "code",
   "execution_count": null,
   "id": "11b72960",
   "metadata": {},
   "outputs": [],
   "source": [
    "from sklearn.linear_model import LinearRegression"
   ]
  },
  {
   "cell_type": "code",
   "execution_count": null,
   "id": "8ed3e66a",
   "metadata": {},
   "outputs": [],
   "source": [
    "reg = LinearRegression()\n",
    "reg.fit(X,y)\n",
    "predictions = reg.predict(X)\n",
    "\n",
    "print(predictions[:5])"
   ]
  },
  {
   "cell_type": "code",
   "execution_count": null,
   "id": "b81fda0e",
   "metadata": {},
   "outputs": [],
   "source": [
    "import matplotlib.pyplot as plt\n",
    "plt.scatter(X, y, color='blue')\n",
    "#create a line plot\n",
    "\n",
    "plt.plot(X,predictions, color='red')\n",
    "plt.xlabel(\"Radio Expenditure ($)\")\n",
    "plt.ylabel(\"Sales ($)\")\n",
    "\n",
    "plt.show()"
   ]
  },
  {
   "cell_type": "markdown",
   "id": "0e9d35a4",
   "metadata": {},
   "source": [
    "## Logistic regression in SKLearn"
   ]
  },
  {
   "cell_type": "code",
   "execution_count": null,
   "id": "6f5a124d",
   "metadata": {},
   "outputs": [],
   "source": [
    "from sklearn.linear_model import LogisticRegression\n",
    "logreg = LogisticRegression()\n",
    "X_train, X_test, y_train, y_test = train_test_split(X, y , test_size=0.3, random_state=42)\n",
    "\n",
    "logreg.fit(X_train, y_train)\n",
    "y_pred = logreg.predict(X_test)\n",
    "\n",
    "y_pred_probs = logreg.predict_proba(X_test)[:, 1]\n",
    "\n",
    "print(y_pred_probs[:10])\n",
    "\n",
    "print(y_pred_probs[:10])"
   ]
  },
  {
   "cell_type": "code",
   "execution_count": null,
   "id": "32a50514",
   "metadata": {},
   "outputs": [],
   "source": [
    "#plooting the ROC\n",
    "from sklearn.metrics import roc_curve\n",
    "fpr, tpr, thresholds = roc_curve(y_test, y_pred_probs)\n",
    "plt.plot([0,1],[0,1],'k--')\n",
    "plt.plot(fpr, tpr)\n",
    "plt.xlabel('False Positive Rate')\n",
    "plt.ylabel('True Positive Rate')\n",
    "plt.title('Logistic Regression ROC Curve')\n",
    "plt.show()"
   ]
  },
  {
   "cell_type": "code",
   "execution_count": null,
   "id": "2022ca42",
   "metadata": {},
   "outputs": [],
   "source": [
    "from sklearn.metrics import roc_auc_score\n",
    "\n",
    "print(roc_auc_score(y_test, y_pred_probs))\n",
    "\n",
    "print(confusion_matrix(y_test, y_pred))\n",
    "print(classification_report(y_test, y_pred))"
   ]
  },
  {
   "cell_type": "markdown",
   "id": "2b90fab1",
   "metadata": {},
   "source": [
    "## Hyperparameter Tuning\n",
    "#### Ridge/lasso regression :choosing alpha\n",
    "#### KNN: choosing n_neighbors\n",
    "#### hyperparameters are parameters we specify before fitting the model"
   ]
  },
  {
   "cell_type": "code",
   "execution_count": null,
   "id": "bfd834e1",
   "metadata": {},
   "outputs": [],
   "source": [
    "#grid search cross-validation\n",
    "from sklearn.model_selection import GridSearchCV\n",
    "kf = KFold(n_splits=5,\n",
    "          shuffle=True,\n",
    "          random_state=42)\n",
    "param_grid = {\"alpha\": np.arange(0.0001, 1,10),\n",
    "             \"solver\": ['sag','lsqr']}\n",
    "ridge = Ridge()\n",
    "ridge_cv = GridSearchCV(ridge, param_grid, cv=kf)\n",
    "ridge_cv.fit(X_train, y_train)\n",
    "print(ridge_cv.best_params_, ridge_cv.best_score_)"
   ]
  },
  {
   "cell_type": "code",
   "execution_count": null,
   "id": "bb91fe6c",
   "metadata": {},
   "outputs": [],
   "source": [
    "#RandomizedSearchCV\n",
    "from sklearn.model_selection import RandomizedSearchCV\n",
    "kf = KFold(n_splits=5,\n",
    "          shuffle=True,\n",
    "          random_state=42)\n",
    "\n",
    "# Set up the parameter grid\n",
    "param_grid = {\"alpha\": np.arange(0.0001, 1,10),\n",
    "             \"solver\": ['sag','lsqr']}\n",
    "ridge = Ridge()\n",
    "ridge_cv = RandomizedSearchCV(ridge, param_grid, cv=kf, n_iter=2\n",
    "ridge_cv.fit(X_train, y_train)\n",
    "print(ridge_cv.best_params_, ridge_cv.best_score_)\n",
    "                              \n",
    "# Fit to the training data\n",
    "lasso_cv.fit(X_train, y_train)\n",
    "print(\"Tuned lasso paramaters: {}\".format(lasso_cv.best_params_))\n",
    "print(\"Tuned lasso score: {}\".format(lasso_cv.best_score_))"
   ]
  },
  {
   "cell_type": "code",
   "execution_count": null,
   "id": "db1d417b",
   "metadata": {},
   "outputs": [],
   "source": [
    "#Evaluating on the test set\n",
    "test_score = ridge_cv.score(X_test, y_test)\n",
    "print(test_score)"
   ]
  },
  {
   "cell_type": "code",
   "execution_count": null,
   "id": "d25bb292",
   "metadata": {},
   "outputs": [],
   "source": [
    "# Create the parameter space\n",
    "params = {\"penalty\": [\"l1\", \"l2\"],\n",
    "         \"tol\": np.linspace(0.0001, 1.0, 50),\n",
    "         \"C\": np.linspace(0.1, 1.0, 50),\n",
    "         \"class_weight\": [\"balanced\", {0:0.8, 1:0.2}]}\n",
    "\n",
    "# Instantiate the RandomizedSearchCV object\n",
    "logreg_cv = RandomizedSearchCV(logreg, params, cv=kf)\n",
    "\n",
    "# Fit the data to the model\n",
    "logreg_cv.fit(X_train, y_train)\n",
    "\n",
    "# Print the tuned parameters and score\n",
    "print(\"Tuned Logistic Regression Parameters: {}\".format(logreg_cv.best_params_))\n",
    "print(\"Tuned Logistic Regression Best Accuracy Score: {}\".format(logreg_cv.best_score_))"
   ]
  },
  {
   "cell_type": "markdown",
   "id": "5b5fdc52",
   "metadata": {},
   "source": [
    "### preprocessing data"
   ]
  },
  {
   "cell_type": "code",
   "execution_count": null,
   "id": "3a26f793",
   "metadata": {},
   "outputs": [],
   "source": [
    "#music dataset\n",
    "import pandas as pd\n",
    "music_df = pd.read_csv('music.csv')\n",
    "music_dummies = pd.get_dummies(music_df['genre'], drop_first=True)\n",
    "print(music_dummies.head())"
   ]
  },
  {
   "cell_type": "code",
   "execution_count": null,
   "id": "c6d87acc",
   "metadata": {},
   "outputs": [],
   "source": [
    "#to bring dummies to df\n",
    "music_dummies = pd.concat([music_df, music_dummies], axis=1)\n",
    "#remove genres column\n",
    "music_dummies = music_dummies.drop(\"genre\", axis = 1)"
   ]
  },
  {
   "cell_type": "code",
   "execution_count": null,
   "id": "2e97521a",
   "metadata": {},
   "outputs": [],
   "source": [
    "#linear regression with dummy variables\n",
    "from sklearn.model_selection import cross_val_score, KFold\n",
    "from sklearn.linear_model import LinearRegression\n",
    "X = music_dummies.drop(\"popularity\", axis = 1)\n",
    "y = music_dummies[\"popularity\"].values\n",
    "X_train, X_test, y_train, y_test = train_test_split(X, y, test_size=0.2,\n",
    "                                                   random_state=42)\n",
    "kf = KFold(n_split=5, shuffle=True, random_state=42)\n",
    "linreg = LinearRegression()\n",
    "linreg_cv = cross_val_score(linreg, X_train, y_train, cv=kf,\n",
    "                           scoring=\"neg_mean_squared_error\")\n",
    "print(np.sqrt(-linreg_cv))"
   ]
  },
  {
   "cell_type": "code",
   "execution_count": null,
   "id": "27287d2f",
   "metadata": {},
   "outputs": [],
   "source": [
    "# Create X and y\n",
    "X = music_dummies.drop('popularity', axis=1).values\n",
    "y = music_dummies['popularity'].values\n",
    "\n",
    "# Instantiate a ridge model\n",
    "ridge = Ridge(alpha=0.2)\n",
    "\n",
    "# Perform cross-validation\n",
    "scores = cross_val_score(ridge, X, y, cv=kf, scoring=\"neg_mean_squared_error\")\n",
    "\n",
    "# Calculate RMSE\n",
    "rmse = np.sqrt(-scores)\n",
    "print(\"Average RMSE: {}\".format(np.mean(rmse)))\n",
    "print(\"Standard Deviation of the target array: {}\".format(np.std(y)))"
   ]
  },
  {
   "cell_type": "code",
   "execution_count": null,
   "id": "551869a9",
   "metadata": {},
   "outputs": [],
   "source": []
  },
  {
   "cell_type": "code",
   "execution_count": null,
   "id": "58d5824b",
   "metadata": {},
   "outputs": [],
   "source": []
  }
 ],
 "metadata": {
  "kernelspec": {
   "display_name": "Python 3 (ipykernel)",
   "language": "python",
   "name": "python3"
  },
  "language_info": {
   "codemirror_mode": {
    "name": "ipython",
    "version": 3
   },
   "file_extension": ".py",
   "mimetype": "text/x-python",
   "name": "python",
   "nbconvert_exporter": "python",
   "pygments_lexer": "ipython3",
   "version": "3.9.7"
  }
 },
 "nbformat": 4,
 "nbformat_minor": 5
}
